{
  "cells": [
    {
      "cell_type": "markdown",
      "metadata": {
        "id": "view-in-github",
        "colab_type": "text"
      },
      "source": [
        "<a href=\"https://colab.research.google.com/github/LEVIII007/chess/blob/main/Copy_of_chess.ipynb\" target=\"_parent\"><img src=\"https://colab.research.google.com/assets/colab-badge.svg\" alt=\"Open In Colab\"/></a>"
      ]
    },
    {
      "cell_type": "code",
      "execution_count": null,
      "metadata": {
        "colab": {
          "background_save": true,
          "base_uri": "https://localhost:8080/"
        },
        "id": "p11ga55Q1RMU",
        "outputId": "aeb2d700-75eb-4b6c-8b20-0646d1539a6e"
      },
      "outputs": [
        {
          "name": "stdout",
          "output_type": "stream",
          "text": [
            "Downloading chess-games, 1555836415 bytes compressed\n",
            "[==================================================] 1555836415 bytes downloaded\n",
            "Downloaded and uncompressed: chess-games\n",
            "Data source import complete.\n"
          ]
        }
      ],
      "source": [
        "\n",
        "# IMPORTANT: RUN THIS CELL IN ORDER TO IMPORT YOUR KAGGLE DATA SOURCES\n",
        "# TO THE CORRECT LOCATION (/kaggle/input) IN YOUR NOTEBOOK,\n",
        "# THEN FEEL FREE TO DELETE THIS CELL.\n",
        "# NOTE: THIS NOTEBOOK ENVIRONMENT DIFFERS FROM KAGGLE'S PYTHON\n",
        "# ENVIRONMENT SO THERE MAY BE MISSING LIBRARIES USED BY YOUR\n",
        "# NOTEBOOK.\n",
        "\n",
        "import os\n",
        "import sys\n",
        "from tempfile import NamedTemporaryFile\n",
        "from urllib.request import urlopen\n",
        "from urllib.parse import unquote, urlparse\n",
        "from urllib.error import HTTPError\n",
        "from zipfile import ZipFile\n",
        "import tarfile\n",
        "import shutil\n",
        "\n",
        "CHUNK_SIZE = 40960\n",
        "DATA_SOURCE_MAPPING = 'chess-games:https%3A%2F%2Fstorage.googleapis.com%2Fkaggle-data-sets%2F1159749%2F1944111%2Fbundle%2Farchive.zip%3FX-Goog-Algorithm%3DGOOG4-RSA-SHA256%26X-Goog-Credential%3Dgcp-kaggle-com%2540kaggle-161607.iam.gserviceaccount.com%252F20240127%252Fauto%252Fstorage%252Fgoog4_request%26X-Goog-Date%3D20240127T165103Z%26X-Goog-Expires%3D259200%26X-Goog-SignedHeaders%3Dhost%26X-Goog-Signature%3D17ff3ee24a50bc94c52d4b441ff14c852ead062910161e09dc5c075a751d42597e75b115dee1a7e3ca5945d735e107d37021cfb22a223c8162f246982e23978d1541b38c6a3aa2b2fd5ebd0b29e10f37896248fd6d0bba28a62f0db97232db005a66a1fcf67b5d6376f0937d7d42a224e934d2ff34ab794db52e1986c7be6820f6f01c90d716e4fa446972e69df9fc39072781e1e24a33519647beed500268bf0440ec26a69bb97bfb85091d67a09370bd98818f9dc014374a3f07963a452bb45cb0a17a10021df9f37d65fe8e0b87289d476acdcd9e437256397fb0ba266d57f92de7eb7e75fe1d168a92192c17cd24a9cfe5ce1515c8001a321d9582480fbb'\n",
        "\n",
        "KAGGLE_INPUT_PATH='/kaggle/input'\n",
        "KAGGLE_WORKING_PATH='/kaggle/working'\n",
        "KAGGLE_SYMLINK='kaggle'\n",
        "\n",
        "!umount /kaggle/input/ 2> /dev/null\n",
        "shutil.rmtree('/kaggle/input', ignore_errors=True)\n",
        "os.makedirs(KAGGLE_INPUT_PATH, 0o777, exist_ok=True)\n",
        "os.makedirs(KAGGLE_WORKING_PATH, 0o777, exist_ok=True)\n",
        "\n",
        "try:\n",
        "  os.symlink(KAGGLE_INPUT_PATH, os.path.join(\"..\", 'input'), target_is_directory=True)\n",
        "except FileExistsError:\n",
        "  pass\n",
        "try:\n",
        "  os.symlink(KAGGLE_WORKING_PATH, os.path.join(\"..\", 'working'), target_is_directory=True)\n",
        "except FileExistsError:\n",
        "  pass\n",
        "\n",
        "for data_source_mapping in DATA_SOURCE_MAPPING.split(','):\n",
        "    directory, download_url_encoded = data_source_mapping.split(':')\n",
        "    download_url = unquote(download_url_encoded)\n",
        "    filename = urlparse(download_url).path\n",
        "    destination_path = os.path.join(KAGGLE_INPUT_PATH, directory)\n",
        "    try:\n",
        "        with urlopen(download_url) as fileres, NamedTemporaryFile() as tfile:\n",
        "            total_length = fileres.headers['content-length']\n",
        "            print(f'Downloading {directory}, {total_length} bytes compressed')\n",
        "            dl = 0\n",
        "            data = fileres.read(CHUNK_SIZE)\n",
        "            while len(data) > 0:\n",
        "                dl += len(data)\n",
        "                tfile.write(data)\n",
        "                done = int(50 * dl / int(total_length))\n",
        "                sys.stdout.write(f\"\\r[{'=' * done}{' ' * (50-done)}] {dl} bytes downloaded\")\n",
        "                sys.stdout.flush()\n",
        "                data = fileres.read(CHUNK_SIZE)\n",
        "            if filename.endswith('.zip'):\n",
        "              with ZipFile(tfile) as zfile:\n",
        "                zfile.extractall(destination_path)\n",
        "            else:\n",
        "              with tarfile.open(tfile.name) as tarfile:\n",
        "                tarfile.extractall(destination_path)\n",
        "            print(f'\\nDownloaded and uncompressed: {directory}')\n",
        "    except HTTPError as e:\n",
        "        print(f'Failed to load (likely expired) {download_url} to path {destination_path}')\n",
        "        continue\n",
        "    except OSError as e:\n",
        "        print(f'Failed to load {download_url} to path {destination_path}')\n",
        "        continue\n",
        "\n",
        "print('Data source import complete.')\n"
      ]
    },
    {
      "cell_type": "code",
      "execution_count": null,
      "metadata": {
        "id": "cXB_ZOHA1RMY"
      },
      "outputs": [],
      "source": [
        "# This Python 3 environment comes with many helpful analytics libraries installed\n",
        "# It is defined by the kaggle/python Docker image: https://github.com/kaggle/docker-python\n",
        "# For example, here's several helpful packages to load\n",
        "!pip install chess\n",
        "!pip install pytorch\n",
        "\n",
        "import numpy as np # linear algebra\n",
        "import pandas as pd # data processing, CSV file I/O (e.g. pd.read_csv)\n",
        "\n",
        "# Input data files are available in the read-only \"../input/\" directory\n",
        "# For example, running this (by clicking run or pressing Shift+Enter) will list all files under the input directory\n",
        "\n",
        "# import os\n",
        "# for dirname, _, filenames in os.walk('/kaggle/input'):\n",
        "#     for filename in filenames:\n",
        "#         print(os.path.join(dirname, filename))\n",
        "\n",
        "# You can write up to 20GB to the current directory (/kaggle/working/) that gets preserved as output when you create a version using \"Save & Run All\"\n",
        "# You can also write temporary files to /kaggle/temp/, but they won't be saved outside of the current session\n",
        "import re\n",
        "import numpy as np\n",
        "import chess\n",
        "import pandas as pd\n",
        "import gc\n",
        "from torch.utils.data import Dataset, DataLoader\n",
        "import torch.nn as nn\n",
        "import torch.nn.functional as F\n",
        "import torch"
      ]
    },
    {
      "cell_type": "code",
      "execution_count": null,
      "metadata": {
        "id": "DHxwwnzSdsKV"
      },
      "outputs": [],
      "source": [
        "from google.colab import drive\n",
        "drive.mount('/content/drive')"
      ]
    },
    {
      "cell_type": "code",
      "execution_count": null,
      "metadata": {
        "id": "YEJn_qwv1RMZ"
      },
      "outputs": [],
      "source": [
        "letter_2_num = {'a': 0, 'b': 1, 'c': 2, 'd': 3, 'e': 4, 'f': 5, 'g': 6, 'h': 7}\n",
        "num_2_letter = {0: 'a', 1: 'b', 2: 'c', 3: 'd', 4: 'e', 5: 'f', 6: 'g', 7: 'h'}"
      ]
    },
    {
      "cell_type": "code",
      "execution_count": null,
      "metadata": {
        "id": "B8ID17kG1RMZ"
      },
      "outputs": [],
      "source": [
        "import chess\n",
        "\n",
        "# Create a chess board\n",
        "board = chess.Board()\n",
        "\n",
        "# Print the chess board in characters\n",
        "print(board)"
      ]
    },
    {
      "cell_type": "markdown",
      "metadata": {
        "id": "dUXiVLEE1RMZ"
      },
      "source": [
        "**2.**"
      ]
    },
    {
      "cell_type": "code",
      "execution_count": null,
      "metadata": {
        "id": "kBqikt6J1RMa"
      },
      "outputs": [],
      "source": [
        "#making chess board layers\n",
        "def create_rep_layer(board, type):\n",
        "\n",
        "    s = str(board)\n",
        "    s = re.sub(f'[^{type}{type.upper()} \\n]', '.', s)\n",
        "    s = re.sub(f'{type}', '-1', s)\n",
        "    s = re.sub(f'{type.upper()}', '1', s)\n",
        "    s = re.sub(f'\\.', '0', s)\n",
        "\n",
        "    board_mat = []\n",
        "    for row in s.split('\\n'):\n",
        "        row = row.split(' ')\n",
        "        row = [int(x) for x in row]\n",
        "        board_mat.append(row)\n",
        "\n",
        "    return np.array(board_mat)"
      ]
    },
    {
      "cell_type": "markdown",
      "metadata": {
        "id": "G41ufQID1RMb"
      },
      "source": [
        "**1**"
      ]
    },
    {
      "cell_type": "code",
      "execution_count": null,
      "metadata": {
        "id": "7icARsXd1RMb"
      },
      "outputs": [],
      "source": [
        "def board_2_rep(board):\n",
        "    pieces = ['p', 'r', 'n', 'b', 'q', 'k']\n",
        "    layers = []\n",
        "    for piece in pieces:\n",
        "        layers.append(create_rep_layer(board, piece))\n",
        "    board_rep = np.stack(layers)\n",
        "    return board_rep"
      ]
    },
    {
      "cell_type": "code",
      "execution_count": null,
      "metadata": {
        "id": "1PO74Pi31RMb"
      },
      "outputs": [],
      "source": [
        "#converting moves in a list form\n",
        "def create_move_list(s):\n",
        "    return re.sub('\\d*\\. ','',s).split(' ')[:-1]"
      ]
    },
    {
      "cell_type": "code",
      "execution_count": null,
      "metadata": {
        "id": "3N2dA1AE1RMb"
      },
      "outputs": [],
      "source": [
        "#single move ki representation\n",
        "def move_2_rep(move, board):\n",
        "    board.push_san(move).uci()\n",
        "    move = str(board.pop())\n",
        "\n",
        "    from_output_layer = np.zeros((8,8))\n",
        "    from_row = 8 - int(move[1])\n",
        "    from_column = letter_2_num[move[0]]\n",
        "    from_output_layer[from_row, from_column] = 1\n",
        "\n",
        "    to_output_layer = np.zeros((8,8))\n",
        "    to_row = 8 - int(move[3])\n",
        "    tow_column = letter_2_num[move[2]]\n",
        "    to_output_layer[to_row, tow_column] = 1\n",
        "\n",
        "    return np.stack([from_output_layer, to_output_layer])"
      ]
    },
    {
      "cell_type": "code",
      "execution_count": null,
      "metadata": {
        "id": "3WSrt_Tx1RMc"
      },
      "outputs": [],
      "source": [
        "chess_data_raw = pd.read_csv('/kaggle/input/chess-games/chess_games.csv', usecols = ['AN', 'WhiteElo'])\n",
        "chess_data = chess_data_raw[chess_data_raw['WhiteElo'] > 2200]\n",
        "del chess_data_raw\n",
        "gc.collect\n",
        "chess_data = chess_data[['AN']]\n",
        "chess_data = chess_data[~chess_data['AN'].str.contains('{')]\n",
        "chess_data = chess_data[chess_data['AN'].str.len() > 20]\n",
        "print(chess_data.shape[0])"
      ]
    },
    {
      "cell_type": "code",
      "execution_count": null,
      "metadata": {
        "id": "xH4npb-T1RMc"
      },
      "outputs": [],
      "source": [
        "chess_data.head"
      ]
    },
    {
      "cell_type": "code",
      "execution_count": null,
      "metadata": {
        "id": "5gAWGSVk1RMc"
      },
      "outputs": [],
      "source": [
        "class ChessDataset(Dataset):\n",
        "\n",
        "    def __init__(self, games):\n",
        "        super(ChessDataset, self).__init__()\n",
        "        self.games = games\n",
        "\n",
        "    def __len__(self):\n",
        "        return 250000\n",
        "\n",
        "    def __getitem__(self, index):\n",
        "        game_i = np.random.randint(self.games.shape[0])     #choosing random index\n",
        "        random_game = chess_data['AN'].values[game_i]       # choose game on index\n",
        "        moves = create_move_list(random_game)                #creating moves list in that random game\n",
        "        game_state_i = np.random.randint(len(moves)-1)       #choosing random instance from that game\n",
        "        next_move = moves[game_state_i]                      #that instance will be our target\n",
        "        moves = moves[:game_state_i]                          #prevous all moves will be input\n",
        "        board = chess.Board()                                #making a chess board (alphabet wala)\n",
        "        for move in moves:                                    #saare moves ka board bnana hai ab\n",
        "            board.push_san(move)                              #SAN notation me bna diya board ab usko matrix me convert karenge\n",
        "        x = board_2_rep(board)\n",
        "        y = move_2_rep(next_move, board)\n",
        "        if game_state_i % 2 == 1:\n",
        "            x*=-1\n",
        "\n",
        "        return x, y                    # x = board before making the move         # y = jo move kiya hai uska previous position and current position"
      ]
    },
    {
      "cell_type": "code",
      "execution_count": null,
      "metadata": {
        "id": "QyT88dNt1RMc"
      },
      "outputs": [],
      "source": [
        "data_train = ChessDataset(chess_data['AN'])\n",
        "data_train_loader = DataLoader(data_train, batch_size = 32, shuffle=True, drop_last=True)\n",
        "print(data_train[0])"
      ]
    },
    {
      "cell_type": "code",
      "execution_count": null,
      "metadata": {
        "id": "WLkcOtpB1RMc"
      },
      "outputs": [],
      "source": [
        "# class module(nn.Module):\n",
        "\n",
        "#     def __init__(self, hidden_size):\n",
        "#         super(module, self).__init__()\n",
        "#         self.conv1 = nn.Conv2d(hidden_size, hidden_size, 3, stride=1, padding=1)\n",
        "#         self.conv2 = nn.Conv2d(hidden_size, hidden_size, 3, stride=1, padding=1)\n",
        "#         self.bn1 = nn.BatchNorm2d(hidden_size)\n",
        "#         self.bn2 = nn.BatchNorm2d(hidden_size)\n",
        "#         self.activation1 = nn.SELU()\n",
        "#         self.activation2 = nn.SELU()\n",
        "\n",
        "#     def forward(self, x):\n",
        "#         x_input = torch.clone(x)\n",
        "#         x = self.conv1(x)\n",
        "#         x = self.bn1(x)\n",
        "#         x = self.activation1(x)\n",
        "#         x = self.conv2(x)\n",
        "#         x = self.bn2(x)\n",
        "#         x += x_input\n",
        "#         x = self.activation2(x)\n",
        "#         return x"
      ]
    },
    {
      "cell_type": "code",
      "execution_count": null,
      "metadata": {
        "id": "kmJQ5BP1ZE6h"
      },
      "outputs": [],
      "source": [
        "import torch\n",
        "import torch.nn as nn\n",
        "\n",
        "class module(nn.Module):\n",
        "    def __init__(self, hidden_size):\n",
        "        super(module, self).__init__()\n",
        "        self.conv1 = nn.Conv2d(hidden_size, hidden_size, 3, stride=1, padding=1)\n",
        "        self.conv2 = nn.Conv2d(hidden_size, hidden_size, 3, stride=1, padding=1)\n",
        "        self.conv3 = nn.Conv2d(hidden_size, hidden_size, 3, stride=1, padding=1)  # Added third CNN layer\n",
        "        self.bn1 = nn.BatchNorm2d(hidden_size)\n",
        "        self.bn2 = nn.BatchNorm2d(hidden_size)\n",
        "        self.bn3 = nn.BatchNorm2d(hidden_size)  # BatchNorm for the third layer\n",
        "        self.activation1 = nn.SELU()\n",
        "        self.activation2 = nn.SELU()\n",
        "        self.activation3 = nn.SELU()  # Activation for the third layer\n",
        "\n",
        "        # Initialize weights for the third convolution layer to 10^-7\n",
        "        nn.init.constant_(self.conv1.weight, 1e-7)\n",
        "        nn.init.constant_(self.conv2.weight, 1e-6)\n",
        "        nn.init.constant_(self.conv3.weight, 1e-6)\n",
        "\n",
        "    def forward(self, x):\n",
        "        x_input = torch.clone(x)\n",
        "        x = self.conv1(x)\n",
        "        x = self.bn1(x)\n",
        "        x = self.activation1(x)\n",
        "        x = self.conv2(x)\n",
        "        x = self.bn2(x)\n",
        "        x = self.activation2(x)\n",
        "        x = self.conv3(x)  # Apply the third convolution layer\n",
        "        x = self.bn3(x)\n",
        "        x += x_input\n",
        "        x = self.activation3(x)\n",
        "        return x\n"
      ]
    },
    {
      "cell_type": "code",
      "execution_count": null,
      "metadata": {
        "id": "7qeBUDqY1RMc"
      },
      "outputs": [],
      "source": [
        "# import tensorflow as tf\n",
        "# from tensorflow.keras import layers\n",
        "\n",
        "# class Module(layers.Layer):\n",
        "#     def __init__(self, hidden_size):\n",
        "#         super(Module, self).__init__()\n",
        "#         self.conv1 = layers.Conv2D(hidden_size, 3, padding='same')\n",
        "#         self.conv2 = layers.Conv2D(hidden_size, 3, padding='same')\n",
        "#         self.bn1 = layers.BatchNormalization()\n",
        "#         self.bn2 = layers.BatchNormalization()\n",
        "#         self.activation1 = layers.Activation('selu')\n",
        "#         self.activation2 = layers.Activation('selu')\n",
        "\n",
        "#     def call(self, inputs):\n",
        "#         x_input = tf.identity(inputs)\n",
        "#         x = self.conv1(inputs)\n",
        "#         x = self.bn1(x)\n",
        "#         x = self.activation1(x)\n",
        "#         x = self.conv2(x)\n",
        "#         x = self.bn2(x)\n",
        "#         x += x_input\n",
        "#         x = self.activation2(x)\n",
        "#         return x\n"
      ]
    },
    {
      "cell_type": "code",
      "execution_count": null,
      "metadata": {
        "id": "axS6o8R61RMd"
      },
      "outputs": [],
      "source": [
        "# class ChessNet(tf.keras.Model):\n",
        "#     def __init__(self, hidden_layers=4, hidden_size=200):\n",
        "#         super(ChessNet, self).__init__()\n",
        "#         self.hidden_layers = hidden_layers\n",
        "#         self.input_layer = layers.Conv2D(hidden_size, 3, padding='same')\n",
        "#         self.module_list = [Module(hidden_size) for _ in range(hidden_layers)]\n",
        "#         self.output_layer = layers.Conv2D(2, 3, padding='same')\n",
        "\n",
        "#     def call(self, inputs):\n",
        "#         x = self.input_layer(inputs)\n",
        "#         x = tf.nn.relu(x)\n",
        "\n",
        "#         for i in range(self.hidden_layers):\n",
        "#             x = self.module_listi\n",
        "\n",
        "#         x = self.output_layer(x)\n",
        "\n",
        "#         return x\n"
      ]
    },
    {
      "cell_type": "code",
      "execution_count": null,
      "metadata": {
        "id": "-7369FUA1RMd"
      },
      "outputs": [],
      "source": [
        "class ChessNet(nn.Module):\n",
        "\n",
        "    def __init__(self, hidden_layers=4, hidden_size=200):\n",
        "        super(ChessNet, self).__init__()\n",
        "        self.hidden_layers = hidden_layers\n",
        "        self.input_layer = nn.Conv2d(6, hidden_size, 3, stride=1, padding=1)\n",
        "        self.module_list = nn.ModuleList([module(hidden_size) for i in range(hidden_layers)])\n",
        "        self.output_layer = nn.Conv2d(hidden_size, 2, 3, stride=1, padding=1)\n",
        "\n",
        "    def forward(self, x):\n",
        "\n",
        "        x = self.input_layer(x)\n",
        "        x = F.relu(x)\n",
        "\n",
        "        for i in range(self.hidden_layers):\n",
        "            x = self.module_list[i](x)\n",
        "\n",
        "        x = self.output_layer(x)\n",
        "\n",
        "        return x"
      ]
    },
    {
      "cell_type": "code",
      "execution_count": null,
      "metadata": {
        "id": "3wGmcSER1RMd"
      },
      "outputs": [],
      "source": [
        "def checkmate_single(board):\n",
        "    board = board.copy()\n",
        "    legal_moves = list(board.legal_moves)\n",
        "    for move in legal_moves:\n",
        "        board.push_uci(str(move))\n",
        "        if board.is_checkmate():\n",
        "            move = board.pop()\n",
        "            return move\n",
        "        _ = board.pop()\n",
        "    return None"
      ]
    },
    {
      "cell_type": "code",
      "execution_count": null,
      "metadata": {
        "id": "g8eAHx551RMd"
      },
      "outputs": [],
      "source": [
        "#if pawn diagonally behind a piece(queen,rook,bishop). kill him"
      ]
    },
    {
      "cell_type": "code",
      "execution_count": null,
      "metadata": {
        "id": "7rEEDRs31RMd"
      },
      "outputs": [],
      "source": [
        "def distribution_over_moves(vals):\n",
        "    probs = np.array(vals)\n",
        "    probs = np.exp(probs)\n",
        "    probs = probs / probs.sum()\n",
        "    probs = probs ** 3\n",
        "    probs = probs / probs.sum()\n",
        "    return probs"
      ]
    },
    {
      "cell_type": "code",
      "execution_count": null,
      "metadata": {
        "id": "fj0DJAIL1RMd"
      },
      "outputs": [],
      "source": [
        "def predict(x):\n",
        "    model.eval()\n",
        "    with torch.no_grad():\n",
        "        outputs = model(x)\n",
        "        return outputs.cpu().numpy()"
      ]
    },
    {
      "cell_type": "code",
      "execution_count": null,
      "metadata": {
        "id": "taT-mIXt1RMd"
      },
      "outputs": [],
      "source": [
        "def choose_move(board,color):\n",
        "\n",
        "    legal_moves = list(board.legal_moves)\n",
        "\n",
        "    move = checkmate_single(board)   #checking if single move me possible hai check mate\n",
        "\n",
        "    if move is not None:   #if yes..kardo\n",
        "        return move\n",
        "\n",
        "    x = torch.Tensor(board_2_rep(board)).float().to('cuda')\n",
        "    if color == chess.BLACK:\n",
        "        x *= -1\n",
        "    x = x.unsqueeze(0)\n",
        "    move = predict(x)\n",
        "    # print(move)\n",
        "    vals = []\n",
        "    froms = [str(legal_move)[:2] for legal_move in legal_moves]\n",
        "    froms = list(set(froms))\n",
        "    for from_ in froms:\n",
        "        # print(move[0,:,:][0][0])\n",
        "        val = move[0,:,:][0][8-int(from_[1]), letter_2_num[from_[0]]]\n",
        "        # print(from_)\n",
        "        vals.append(val)\n",
        "\n",
        "    probs = distribution_over_moves(vals)\n",
        "\n",
        "    chosen_from = str(np.random.choice(froms, size=1, p=probs)[0])[:2]\n",
        "\n",
        "    vals = []\n",
        "    for legal_move in legal_moves:\n",
        "        from_ = str(legal_move)[:2]\n",
        "        if from_ == chosen_from:\n",
        "            to = str(legal_move)[2:]\n",
        "            # print(move[0,:,:][0])\n",
        "            # print(move[0,:,:][1])\n",
        "            val = move[0,:,:][1][8 - int(to[1]), letter_2_num[to[0]]]\n",
        "            vals.append(val)\n",
        "        else:\n",
        "            vals.append(0)\n",
        "    chosen_move = legal_moves[np.argmax(vals)]\n",
        "    return chosen_move"
      ]
    },
    {
      "cell_type": "code",
      "execution_count": null,
      "metadata": {
        "id": "QL3rF8_81RMd"
      },
      "outputs": [],
      "source": [
        "metric_from = nn.CrossEntropyLoss()\n",
        "metric_to = nn.CrossEntropyLoss()"
      ]
    },
    {
      "cell_type": "code",
      "execution_count": null,
      "metadata": {
        "id": "K3i8-jYc1RMd"
      },
      "outputs": [],
      "source": [
        "torch.cuda.is_available()           #checking if gpu is available"
      ]
    },
    {
      "cell_type": "code",
      "execution_count": null,
      "metadata": {
        "id": "tQ1TtVyg1RMd"
      },
      "outputs": [],
      "source": []
    },
    {
      "cell_type": "code",
      "execution_count": null,
      "metadata": {
        "id": "GwdBaRa41RMd",
        "colab": {
          "base_uri": "https://localhost:8080/"
        },
        "outputId": "63f6d479-3daf-4fc5-bae1-d2e87c3e9483"
      },
      "outputs": [
        {
          "output_type": "stream",
          "name": "stdout",
          "text": [
            "Epoch [1/5], Step [1/7812], Loss: 4.1452\n",
            "Epoch [1/5], Step [1001/7812], Loss: 0.8552\n",
            "Epoch [1/5], Step [2001/7812], Loss: 0.7579\n",
            "Epoch [1/5], Step [3001/7812], Loss: 0.7615\n",
            "Epoch [1/5], Step [4001/7812], Loss: 0.7103\n",
            "Epoch [1/5], Step [5001/7812], Loss: 0.6642\n",
            "Epoch [1/5], Step [6001/7812], Loss: 0.7064\n",
            "Epoch [1/5], Step [7001/7812], Loss: 0.7537\n",
            "Epoch [2/5], Step [1/7812], Loss: 0.6845\n",
            "Epoch [2/5], Step [1001/7812], Loss: 0.6190\n",
            "Epoch [2/5], Step [2001/7812], Loss: 0.6048\n",
            "Epoch [2/5], Step [3001/7812], Loss: 0.5640\n",
            "Epoch [2/5], Step [4001/7812], Loss: 0.6555\n",
            "Epoch [2/5], Step [5001/7812], Loss: 0.5574\n",
            "Epoch [2/5], Step [6001/7812], Loss: 0.6992\n",
            "Epoch [2/5], Step [7001/7812], Loss: 0.7202\n",
            "Epoch [3/5], Step [1/7812], Loss: 0.6262\n",
            "Epoch [3/5], Step [1001/7812], Loss: 0.6740\n",
            "Epoch [3/5], Step [2001/7812], Loss: 0.6623\n",
            "Epoch [3/5], Step [3001/7812], Loss: 0.6519\n",
            "Epoch [3/5], Step [4001/7812], Loss: 0.7012\n",
            "Epoch [3/5], Step [5001/7812], Loss: 0.5893\n",
            "Epoch [3/5], Step [6001/7812], Loss: 0.5857\n",
            "Epoch [3/5], Step [7001/7812], Loss: 0.5806\n",
            "Epoch [4/5], Step [1/7812], Loss: 0.6329\n",
            "Epoch [4/5], Step [1001/7812], Loss: 0.5490\n",
            "Epoch [4/5], Step [2001/7812], Loss: 0.6164\n",
            "Epoch [4/5], Step [3001/7812], Loss: 0.6526\n",
            "Epoch [4/5], Step [4001/7812], Loss: 0.6234\n",
            "Epoch [4/5], Step [5001/7812], Loss: 0.6192\n",
            "Epoch [4/5], Step [6001/7812], Loss: 0.5721\n",
            "Epoch [4/5], Step [7001/7812], Loss: 0.6973\n",
            "Epoch [5/5], Step [1/7812], Loss: 0.6833\n",
            "Epoch [5/5], Step [1001/7812], Loss: 0.4818\n",
            "Epoch [5/5], Step [2001/7812], Loss: 0.5520\n",
            "Epoch [5/5], Step [3001/7812], Loss: 0.6823\n",
            "Epoch [5/5], Step [4001/7812], Loss: 0.5408\n",
            "Epoch [5/5], Step [5001/7812], Loss: 0.6037\n",
            "Epoch [5/5], Step [6001/7812], Loss: 0.6174\n",
            "Epoch [5/5], Step [7001/7812], Loss: 0.4927\n"
          ]
        }
      ],
      "source": [
        "import torch.optim as optim\n",
        "\n",
        "model = ChessNet(hidden_layers=4, hidden_size=200).to('cuda')\n",
        "optimizer = optim.Adam(model.parameters(), lr=0.0003)\n",
        "record = []\n",
        "num_epochs = 5\n",
        "for epoch in range(num_epochs):\n",
        "    for i, (inputs, labels) in enumerate(data_train_loader):\n",
        "        inputs = inputs.float().to('cuda')\n",
        "        labels = labels.float().to('cuda')  # convert labels to float and using gpu\n",
        "        optimizer.zero_grad()\n",
        "        outputs = model(inputs)\n",
        "        output_from = outputs[:, 0, :]\n",
        "        output_to = outputs[:, 1, :]\n",
        "        y_from = labels[:, 0, :]\n",
        "        y_to = labels[:, 1, :]\n",
        "        loss_from = nn.CrossEntropyLoss()(output_from, y_from.argmax(dim=1))   #computing loss of choosing move\n",
        "        loss_to = nn.CrossEntropyLoss()(output_to, y_to.argmax(dim=1))          #loss for chossing next position\n",
        "        loss = loss_from + loss_to\n",
        "        loss.backward()                                       # back propagating\n",
        "        optimizer.step()\n",
        "        record.append(loss.item())\n",
        "        if i % 1000 == 0:\n",
        "            print('Epoch [{}/{}], Step [{}/{}], Loss: {:.4f}'.format(epoch+1, num_epochs, i+1, len(data_train_loader), loss.item()))\n",
        "    torch.save(model.state_dict(), 'model2.pth')"
      ]
    },
    {
      "cell_type": "code",
      "execution_count": null,
      "metadata": {
        "id": "oxwPk0R11RMe"
      },
      "outputs": [],
      "source": []
    },
    {
      "cell_type": "code",
      "execution_count": null,
      "metadata": {
        "id": "0PtK6Sgg1RMe"
      },
      "outputs": [],
      "source": [
        "\n"
      ]
    },
    {
      "cell_type": "code",
      "execution_count": null,
      "metadata": {
        "id": "pCSAOECC1RMe"
      },
      "outputs": [],
      "source": [
        "board = chess.Board()  #i can give fen string as input to make chess bot\n",
        "board"
      ]
    },
    {
      "cell_type": "code",
      "execution_count": null,
      "metadata": {
        "id": "SuCh3bB_1RMe"
      },
      "outputs": [],
      "source": [
        "legal = choose_move(board,chess.BLACK)\n",
        "print(\"bot moves :: \")\n",
        "print(legal)\n",
        "# If there are any legal moves, make the first one\n",
        "board.push(legal)\n",
        "board"
      ]
    },
    {
      "cell_type": "code",
      "execution_count": null,
      "metadata": {
        "id": "S8y5VCDh1RMe"
      },
      "outputs": [],
      "source": [
        "move = chess.Move.from_uci(\"g7g5\")\n",
        "\n",
        "if move in board.legal_moves:\n",
        "    board.push(move)\n",
        "else:\n",
        "    print(\"Move is not legal\")\n",
        "board"
      ]
    },
    {
      "cell_type": "code",
      "execution_count": null,
      "metadata": {
        "id": "6J120O_L1RMe"
      },
      "outputs": [],
      "source": []
    }
  ],
  "metadata": {
    "accelerator": "GPU",
    "colab": {
      "provenance": [],
      "include_colab_link": true
    },
    "kaggle": {
      "accelerator": "nvidiaTeslaT4",
      "dataSources": [
        {
          "datasetId": 1159749,
          "sourceId": 1944111,
          "sourceType": "datasetVersion"
        }
      ],
      "dockerImageVersionId": 30461,
      "isGpuEnabled": true,
      "isInternetEnabled": true,
      "language": "python",
      "sourceType": "notebook"
    },
    "kernelspec": {
      "display_name": "Python 3",
      "name": "python3"
    },
    "language_info": {
      "codemirror_mode": {
        "name": "ipython",
        "version": 3
      },
      "file_extension": ".py",
      "mimetype": "text/x-python",
      "name": "python",
      "nbconvert_exporter": "python",
      "pygments_lexer": "ipython3",
      "version": "3.7.12"
    }
  },
  "nbformat": 4,
  "nbformat_minor": 0
}